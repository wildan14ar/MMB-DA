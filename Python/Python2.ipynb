{
  "cells": [
    {
      "cell_type": "markdown",
      "id": "1fb1c9be",
      "metadata": {
        "id": "1fb1c9be"
      },
      "source": [
        "# **LIST**"
      ]
    },
    {
      "cell_type": "markdown",
      "id": "c7f147ba",
      "metadata": {
        "id": "c7f147ba"
      },
      "source": [
        "List digunakan untuk menyimpan beberapa item dalam satu variabel.\n",
        "\n",
        "List adalah salah satu dari 4 tipe data bawaan dalam Python yang digunakan untuk menyimpan koleksi data, 3 lainnya adalah Tuple, Set, dan Dictionary, semuanya dengan kualitas dan penggunaan yang berbeda.\n",
        "\n",
        "List dibuat dengan menggunakan tanda kurung siku"
      ]
    },
    {
      "cell_type": "markdown",
      "id": "9f586307",
      "metadata": {
        "id": "9f586307"
      },
      "source": [
        "## Sifat List"
      ]
    },
    {
      "cell_type": "markdown",
      "id": "3d0291e5",
      "metadata": {
        "id": "3d0291e5"
      },
      "source": [
        "1. List berisi koleksi nilai/data\n",
        "2. List bisa berisi tipe data apapun dan tidak semua data berisi tipe data yang sama\n",
        "3. List dapat diubah (Mutable)"
      ]
    },
    {
      "cell_type": "code",
      "execution_count": null,
      "id": "3d43f4dd",
      "metadata": {
        "id": "3d43f4dd",
        "outputId": "326b0a89-aefc-44f9-d60c-55d34a24188c",
        "colab": {
          "base_uri": "https://localhost:8080/"
        }
      },
      "outputs": [
        {
          "output_type": "stream",
          "name": "stdout",
          "text": [
            "[]\n",
            "['apel', 'jeruk', 'anggur', 'semangga']\n"
          ]
        }
      ],
      "source": [
        "# Membuat List\n",
        "kosong = []\n",
        "buah = [\"apel\", \"jeruk\", \"anggur\", \"semangga\"]\n",
        "\n",
        "print(kosong)\n",
        "print(buah)"
      ]
    },
    {
      "cell_type": "code",
      "execution_count": null,
      "id": "1d2e6d92",
      "metadata": {
        "id": "1d2e6d92"
      },
      "outputs": [],
      "source": [
        "list1 = [\"apel\", \"jeruk\", \"pisang\", \"semangka\"]\n",
        "list2 = [1, 3, 5, 7, 11]\n",
        "list3 = [True, False, False]"
      ]
    },
    {
      "cell_type": "code",
      "source": [
        "list1"
      ],
      "metadata": {
        "colab": {
          "base_uri": "https://localhost:8080/"
        },
        "id": "1nwwW4wr9aip",
        "outputId": "2182b052-2b73-458c-bed2-2193c1599cc0"
      },
      "id": "1nwwW4wr9aip",
      "execution_count": null,
      "outputs": [
        {
          "output_type": "execute_result",
          "data": {
            "text/plain": [
              "['apel', 'jeruk', 'pisang', 'semangka']"
            ]
          },
          "metadata": {},
          "execution_count": 3
        }
      ]
    },
    {
      "cell_type": "markdown",
      "id": "1a9ef05e",
      "metadata": {
        "id": "1a9ef05e"
      },
      "source": [
        "## Akses Data List"
      ]
    },
    {
      "cell_type": "markdown",
      "id": "91cb3bb1",
      "metadata": {
        "id": "91cb3bb1"
      },
      "source": [
        "Index menunjukan posisi suatu data di dalam list, dan python memulai index dari 0. Ada 2 teknik untuk mengakses data di dalam list. Pertama dengan subsetting list, kedua dengan slicing list."
      ]
    },
    {
      "cell_type": "code",
      "execution_count": null,
      "id": "1a20fc57",
      "metadata": {
        "id": "1a20fc57"
      },
      "outputs": [],
      "source": [
        "# Membuat data list\n",
        "\n",
        "tinggi_badan = [ 162, 177, 182, 150, 166 ]"
      ]
    },
    {
      "cell_type": "code",
      "execution_count": null,
      "id": "efd0d698",
      "metadata": {
        "id": "efd0d698",
        "outputId": "03d01941-ad2e-4867-9657-7e6aa4ac8efa",
        "colab": {
          "base_uri": "https://localhost:8080/"
        }
      },
      "outputs": [
        {
          "output_type": "stream",
          "name": "stdout",
          "text": [
            "162\n",
            "150\n",
            "182\n"
          ]
        }
      ],
      "source": [
        "# Subsetting list\n",
        "print(tinggi_badan[0]) # posisi pertama\n",
        "print(tinggi_badan[-2]) # posis kedua dari belakang\n",
        "print(tinggi_badan[-3]) # posis keempat dari belakang"
      ]
    },
    {
      "cell_type": "code",
      "execution_count": null,
      "id": "ce383508",
      "metadata": {
        "id": "ce383508",
        "outputId": "29549473-52ea-4ec7-a28d-4d6aee155785",
        "colab": {
          "base_uri": "https://localhost:8080/"
        }
      },
      "outputs": [
        {
          "output_type": "stream",
          "name": "stdout",
          "text": [
            "[162, 177, 182, 150]\n",
            "[182, 150, 166]\n"
          ]
        }
      ],
      "source": [
        "# Slicinglist\n",
        "\n",
        "# Mengambil data dengan index 0, 1, 2, 3\n",
        "print(tinggi_badan[:4])\n",
        "\n",
        "# Mengambil data dengan index 2, 3, 4\n",
        "print(tinggi_badan[2:5])"
      ]
    },
    {
      "cell_type": "code",
      "source": [
        "print(tinggi_badan[2:])"
      ],
      "metadata": {
        "colab": {
          "base_uri": "https://localhost:8080/"
        },
        "id": "hGqC3jEg-OU7",
        "outputId": "f4d38ebd-f6b9-4641-a70f-21584118f1f6"
      },
      "id": "hGqC3jEg-OU7",
      "execution_count": null,
      "outputs": [
        {
          "output_type": "stream",
          "name": "stdout",
          "text": [
            "[182, 150, 166]\n"
          ]
        }
      ]
    },
    {
      "cell_type": "code",
      "source": [
        "print(tinggi_badan[:])"
      ],
      "metadata": {
        "colab": {
          "base_uri": "https://localhost:8080/"
        },
        "id": "vnIE8_7P-gQS",
        "outputId": "bfbfbcf9-4018-4227-edd0-14d83d160733"
      },
      "id": "vnIE8_7P-gQS",
      "execution_count": null,
      "outputs": [
        {
          "output_type": "stream",
          "name": "stdout",
          "text": [
            "[162, 177, 182, 150, 166]\n"
          ]
        }
      ]
    },
    {
      "cell_type": "markdown",
      "id": "01b0b187",
      "metadata": {
        "id": "01b0b187"
      },
      "source": [
        "## Manipulasi List"
      ]
    },
    {
      "cell_type": "markdown",
      "id": "889d22f4",
      "metadata": {
        "id": "889d22f4"
      },
      "source": [
        "List adalah “mutable”, artinya dapat diubah.\n",
        "\n",
        "Salah satu cara untuk mengubah daftar adalah dengan menetapkan indeks atau ekspresi irisan."
      ]
    },
    {
      "cell_type": "markdown",
      "id": "6c283cf1",
      "metadata": {
        "id": "6c283cf1"
      },
      "source": [
        "### Menambahkan Element"
      ]
    },
    {
      "cell_type": "markdown",
      "id": "6586fd8f",
      "metadata": {
        "id": "6586fd8f"
      },
      "source": [
        "Hanya satu elemen dalam satu waktu yang dapat ditambahkan ke daftar dengan menggunakan metode append(), untuk penambahan beberapa elemen dengan metode append(), digunakan loop."
      ]
    },
    {
      "cell_type": "code",
      "execution_count": null,
      "id": "7fe1a01f",
      "metadata": {
        "id": "7fe1a01f",
        "outputId": "292df41d-aa4d-4c92-dada-efc3f73cf89f",
        "colab": {
          "base_uri": "https://localhost:8080/"
        }
      },
      "outputs": [
        {
          "output_type": "stream",
          "name": "stdout",
          "text": [
            "[]\n"
          ]
        }
      ],
      "source": [
        "# adding Elements to a Python List\n",
        "\n",
        "daftar_buah = []\n",
        "print(daftar_buah)"
      ]
    },
    {
      "cell_type": "code",
      "execution_count": null,
      "id": "c86dd284",
      "metadata": {
        "id": "c86dd284",
        "outputId": "3d52ba32-1f2e-436d-dc7b-005aabba72f2",
        "colab": {
          "base_uri": "https://localhost:8080/"
        }
      },
      "outputs": [
        {
          "output_type": "stream",
          "name": "stdout",
          "text": [
            "['pisang']\n",
            "['pisang', 'semangka']\n"
          ]
        }
      ],
      "source": [
        "#menggunakan metode append()\n",
        "daftar_buah.append(\"pisang\")\n",
        "print(daftar_buah)\n",
        "\n",
        "daftar_buah.append(\"semangka\")\n",
        "print(daftar_buah)"
      ]
    },
    {
      "cell_type": "code",
      "source": [
        "daftar_buah.append(2)\n",
        "print(daftar_buah)"
      ],
      "metadata": {
        "colab": {
          "base_uri": "https://localhost:8080/"
        },
        "id": "SKV7kvYt-_VV",
        "outputId": "69474a6e-e941-46f3-c928-d2e27295fb1a"
      },
      "id": "SKV7kvYt-_VV",
      "execution_count": null,
      "outputs": [
        {
          "output_type": "stream",
          "name": "stdout",
          "text": [
            "['pisang', 'semangka', 2]\n"
          ]
        }
      ]
    },
    {
      "cell_type": "markdown",
      "id": "09fd88cf",
      "metadata": {
        "id": "09fd88cf"
      },
      "source": [
        "Metode append() hanya berfungsi untuk penambahan elemen di akhir Daftar, untuk penambahan elemen pada posisi yang diinginkan digunakan metode insert() . Berbeda dengan append() yang hanya membutuhkan satu argumen, metode insert() memerlukan dua argumen (posisi, nilai)."
      ]
    },
    {
      "cell_type": "code",
      "execution_count": null,
      "id": "a98b3584",
      "metadata": {
        "id": "a98b3584",
        "outputId": "eca6c7f5-6e03-41d7-8a98-c5eab7fe4def",
        "colab": {
          "base_uri": "https://localhost:8080/"
        }
      },
      "outputs": [
        {
          "output_type": "stream",
          "name": "stdout",
          "text": [
            "['apel', 'pisang', 'semangka', 2]\n",
            "['apel', 'pisang', 'semangka', 'jeruk', 2]\n"
          ]
        }
      ],
      "source": [
        "#menggunakan metode insert()\n",
        "daftar_buah.insert(0, \"apel\")\n",
        "print(daftar_buah)\n",
        "\n",
        "daftar_buah.insert(3, \"jeruk\")\n",
        "print(daftar_buah)"
      ]
    },
    {
      "cell_type": "markdown",
      "id": "4e8381e7",
      "metadata": {
        "id": "4e8381e7"
      },
      "source": [
        "Selain metode append() dan insert(), ada satu metode lagi untuk Penambahan elemen, extend() , metode ini digunakan untuk menambahkan beberapa elemen sekaligus di akhir daftar."
      ]
    },
    {
      "cell_type": "code",
      "execution_count": null,
      "id": "3686c45b",
      "metadata": {
        "id": "3686c45b",
        "outputId": "7a7219f2-0534-4c8f-c6e6-348864088fe2",
        "colab": {
          "base_uri": "https://localhost:8080/"
        }
      },
      "outputs": [
        {
          "output_type": "stream",
          "name": "stdout",
          "text": [
            "['apel', 'pisang', 'semangka', 'jeruk', 2, 'jambu', 'rambutan', 'nangka']\n"
          ]
        }
      ],
      "source": [
        "#menggunakan metode extend()\n",
        "daftar_buah.extend([\"jambu\", \"rambutan\", \"nangka\"])\n",
        "print(daftar_buah)"
      ]
    },
    {
      "cell_type": "code",
      "source": [
        "buah = ['duren', 'manggis']\n",
        "daftar_buah.extend(buah)\n",
        "print(daftar_buah)"
      ],
      "metadata": {
        "colab": {
          "base_uri": "https://localhost:8080/"
        },
        "id": "0MAPV384_wwE",
        "outputId": "8c1575dd-a6ba-428d-b3a8-8179ecc35a62"
      },
      "id": "0MAPV384_wwE",
      "execution_count": null,
      "outputs": [
        {
          "output_type": "stream",
          "name": "stdout",
          "text": [
            "['apel', 'pisang', 'semangka', 'jeruk', 2, 'jambu', 'rambutan', 'nangka', 'duren', 'manggis']\n"
          ]
        }
      ]
    },
    {
      "cell_type": "markdown",
      "id": "ee5e735a",
      "metadata": {
        "id": "ee5e735a"
      },
      "source": [
        "### Menghapus Element dari List"
      ]
    },
    {
      "cell_type": "code",
      "execution_count": null,
      "id": "a6c835f7",
      "metadata": {
        "id": "a6c835f7",
        "outputId": "6152ebd8-c9b6-4700-d6d8-58d66d568fbf",
        "colab": {
          "base_uri": "https://localhost:8080/"
        }
      },
      "outputs": [
        {
          "output_type": "execute_result",
          "data": {
            "text/plain": [
              "['apel',\n",
              " 'pisang',\n",
              " 'semangka',\n",
              " 'jeruk',\n",
              " 2,\n",
              " 'jambu',\n",
              " 'rambutan',\n",
              " 'nangka',\n",
              " 'duren',\n",
              " 'manggis']"
            ]
          },
          "metadata": {},
          "execution_count": 17
        }
      ],
      "source": [
        "daftar_buah"
      ]
    },
    {
      "cell_type": "code",
      "execution_count": null,
      "id": "59c5685f",
      "metadata": {
        "id": "59c5685f"
      },
      "outputs": [],
      "source": [
        "# menggunakan metode remove()"
      ]
    },
    {
      "cell_type": "markdown",
      "id": "4b761f2a",
      "metadata": {
        "id": "4b761f2a"
      },
      "source": [
        "Metode remove() hanya menghapus satu elemen dalam satu waktu, untuk menghapus serangkaian elemen, iterator digunakan. Metode hapus() menghapus item tertentu"
      ]
    },
    {
      "cell_type": "code",
      "execution_count": null,
      "id": "7f815a63",
      "metadata": {
        "id": "7f815a63",
        "outputId": "882a3c4f-4371-46ae-9332-3a933dc3a872",
        "colab": {
          "base_uri": "https://localhost:8080/"
        }
      },
      "outputs": [
        {
          "output_type": "stream",
          "name": "stdout",
          "text": [
            "['apel', 'pisang', 'semangka', 'jeruk', 'jambu', 'rambutan', 'nangka', 'duren', 'manggis']\n"
          ]
        }
      ],
      "source": [
        "daftar_buah.remove(2)\n",
        "print(daftar_buah)"
      ]
    },
    {
      "cell_type": "code",
      "execution_count": null,
      "id": "f30c0d24",
      "metadata": {
        "id": "f30c0d24"
      },
      "outputs": [],
      "source": [
        "# Menggunakan metode pop()"
      ]
    },
    {
      "cell_type": "markdown",
      "id": "04fd2f72",
      "metadata": {
        "id": "04fd2f72"
      },
      "source": [
        "fungsi pop() juga dapat digunakan untuk menghapus dan mengembalikan elemen dari daftar, tetapi secara default fungsi ini hanya menghapus elemen terakhir dari daftar, untuk menghapus elemen dari posisi tertentu dalam Daftar, indeks elemen dilewatkan sebagai argumen terhadap metode pop()."
      ]
    },
    {
      "cell_type": "code",
      "source": [
        "daftar_buah.pop()\n",
        "print(daftar_buah)"
      ],
      "metadata": {
        "colab": {
          "base_uri": "https://localhost:8080/"
        },
        "id": "vB-Jsd6kATwQ",
        "outputId": "07f77284-a268-41d1-8451-feb709726f3e"
      },
      "id": "vB-Jsd6kATwQ",
      "execution_count": null,
      "outputs": [
        {
          "output_type": "stream",
          "name": "stdout",
          "text": [
            "['apel', 'pisang', 'semangka', 'jeruk', 'jambu', 'rambutan', 'nangka', 'duren']\n"
          ]
        }
      ]
    },
    {
      "cell_type": "code",
      "execution_count": null,
      "id": "ca537069",
      "metadata": {
        "id": "ca537069",
        "outputId": "7b93e3d7-713f-4283-bed5-7a990d78aeb9",
        "colab": {
          "base_uri": "https://localhost:8080/"
        }
      },
      "outputs": [
        {
          "output_type": "stream",
          "name": "stdout",
          "text": [
            "['pisang', 'semangka', 'jeruk', 'jambu', 'rambutan', 'nangka', 'duren']\n"
          ]
        }
      ],
      "source": [
        "daftar_buah.pop(0)\n",
        "print(daftar_buah)"
      ]
    },
    {
      "cell_type": "markdown",
      "id": "4ec31365",
      "metadata": {
        "id": "4ec31365"
      },
      "source": [
        "## List in List"
      ]
    },
    {
      "cell_type": "code",
      "execution_count": null,
      "id": "52956809",
      "metadata": {
        "id": "52956809",
        "outputId": "44055984-fec8-4061-9a3a-6f2f66206ae3",
        "colab": {
          "base_uri": "https://localhost:8080/"
        }
      },
      "outputs": [
        {
          "output_type": "stream",
          "name": "stdout",
          "text": [
            "[['Doraemon', 'Nobita', 'Giant', 'Suneo'], ['Dorayaki', 'Nasi Kebuli', 'Pecel Ayam', 'Gado-gado'], [60, 50, 80, 45]]\n"
          ]
        }
      ],
      "source": [
        "Doraemon=[\n",
        "          [\"Doraemon\",\"Nobita\",\"Giant\",\"Suneo\"],\n",
        "          [\"Dorayaki\",\"Nasi Kebuli\",\"Pecel Ayam\",\"Gado-gado\"],\n",
        "          [60,50,80,45]\n",
        "          ]\n",
        "\n",
        "print(Doraemon)"
      ]
    },
    {
      "cell_type": "code",
      "execution_count": null,
      "id": "c55f8773",
      "metadata": {
        "id": "c55f8773",
        "outputId": "6b1e0bb3-b1d2-4b61-c2d8-72fd0134a51d",
        "colab": {
          "base_uri": "https://localhost:8080/"
        }
      },
      "outputs": [
        {
          "output_type": "stream",
          "name": "stdout",
          "text": [
            "['Doraemon', 'Nobita', 'Giant', 'Suneo']\n",
            "Giant\n"
          ]
        }
      ],
      "source": [
        "# akses elemen\n",
        "print(Doraemon[0])\n",
        "print(Doraemon[0][2])"
      ]
    },
    {
      "cell_type": "code",
      "execution_count": null,
      "id": "128aee23",
      "metadata": {
        "id": "128aee23",
        "outputId": "373a4ea3-b477-4c33-b901-718d7ed33de7",
        "colab": {
          "base_uri": "https://localhost:8080/"
        }
      },
      "outputs": [
        {
          "output_type": "stream",
          "name": "stdout",
          "text": [
            "['Doraemon', 'Nobita', 'Shizuka', 'Suneo']\n"
          ]
        }
      ],
      "source": [
        "#ubah elemen\n",
        "Doraemon[0][2]=\"Shizuka\"\n",
        "print(Doraemon[0])"
      ]
    },
    {
      "cell_type": "code",
      "execution_count": null,
      "id": "4e38a22e",
      "metadata": {
        "id": "4e38a22e",
        "outputId": "03594dc8-9bea-45d0-be35-d3c118ff612a",
        "colab": {
          "base_uri": "https://localhost:8080/"
        }
      },
      "outputs": [
        {
          "output_type": "stream",
          "name": "stdout",
          "text": [
            "['Doraemon', 'Nobita', 'Suneo']\n"
          ]
        }
      ],
      "source": [
        "#hapus elemen\n",
        "del(Doraemon[0][2])\n",
        "print(Doraemon[0])"
      ]
    },
    {
      "cell_type": "code",
      "source": [
        "Doraemon[0].remove('Nobita')\n",
        "print(Doraemon[0])"
      ],
      "metadata": {
        "colab": {
          "base_uri": "https://localhost:8080/"
        },
        "id": "7WFgjoAoBmT4",
        "outputId": "1df40759-aa31-45d0-b563-c11b08e5c37d"
      },
      "id": "7WFgjoAoBmT4",
      "execution_count": null,
      "outputs": [
        {
          "output_type": "stream",
          "name": "stdout",
          "text": [
            "['Doraemon', 'Suneo', 'Nobita']\n"
          ]
        }
      ]
    },
    {
      "cell_type": "markdown",
      "source": [
        "# **DICTIONARY**"
      ],
      "metadata": {
        "id": "Mue49qBt-b5c"
      },
      "id": "Mue49qBt-b5c"
    },
    {
      "cell_type": "markdown",
      "source": [
        "Dictionary adalah data structure untuk menyimpan data jenis key-value pairs.\n",
        "dict={key:value}\n",
        "\n",
        "Biasanya digunakan untuk menyimpan data yang memilki relasi/kemiripan seperti menyimpan sebuah informasi user yang berisi ID, username, age, dll."
      ],
      "metadata": {
        "id": "XIc1bTO_-qdL"
      },
      "id": "XIc1bTO_-qdL"
    },
    {
      "cell_type": "code",
      "source": [
        "karakter_doraemon={\n",
        "    \"Doraemon\":\"Robot\",\n",
        "    \"Nobita\":\"Human\",\n",
        "    \"Giant\":\"Human\",\n",
        "    \"Suneo\":\"Human\"}"
      ],
      "metadata": {
        "id": "t86Itv3N-Xo9"
      },
      "id": "t86Itv3N-Xo9",
      "execution_count": null,
      "outputs": []
    },
    {
      "cell_type": "markdown",
      "source": [
        "## Akses Dictionary"
      ],
      "metadata": {
        "id": "IunmQ3hs_JMc"
      },
      "id": "IunmQ3hs_JMc"
    },
    {
      "cell_type": "code",
      "source": [
        "print(\"Doraemon adalah\", karakter_doraemon[\"Doraemon\"])\n",
        "print(karakter_doraemon[\"Nobita\"])"
      ],
      "metadata": {
        "colab": {
          "base_uri": "https://localhost:8080/"
        },
        "id": "4fwBY5U4-9F-",
        "outputId": "ac144f7c-09e1-42cc-af10-4bf645e398ed"
      },
      "id": "4fwBY5U4-9F-",
      "execution_count": null,
      "outputs": [
        {
          "output_type": "stream",
          "name": "stdout",
          "text": [
            "Doraemon adalah Robot\n",
            "Human\n"
          ]
        }
      ]
    },
    {
      "cell_type": "code",
      "source": [
        "print(karakter_doraemon[0])"
      ],
      "metadata": {
        "colab": {
          "base_uri": "https://localhost:8080/",
          "height": 176
        },
        "id": "uPwxOayyCYNz",
        "outputId": "f7e3ca66-8fe3-4b12-f468-474aa0a911dd"
      },
      "id": "uPwxOayyCYNz",
      "execution_count": null,
      "outputs": [
        {
          "output_type": "error",
          "ename": "KeyError",
          "evalue": "ignored",
          "traceback": [
            "\u001b[0;31m---------------------------------------------------------------------------\u001b[0m",
            "\u001b[0;31mKeyError\u001b[0m                                  Traceback (most recent call last)",
            "\u001b[0;32m<ipython-input-18-b6db03c7a9a2>\u001b[0m in \u001b[0;36m<cell line: 1>\u001b[0;34m()\u001b[0m\n\u001b[0;32m----> 1\u001b[0;31m \u001b[0mprint\u001b[0m\u001b[0;34m(\u001b[0m\u001b[0mkarakter_doraemon\u001b[0m\u001b[0;34m[\u001b[0m\u001b[0;36m0\u001b[0m\u001b[0;34m]\u001b[0m\u001b[0;34m)\u001b[0m\u001b[0;34m\u001b[0m\u001b[0;34m\u001b[0m\u001b[0m\n\u001b[0m",
            "\u001b[0;31mKeyError\u001b[0m: 0"
          ]
        }
      ]
    },
    {
      "cell_type": "markdown",
      "source": [
        "## Modifikasi Elemen Dictionary"
      ],
      "metadata": {
        "id": "ao2PRinC_Tq0"
      },
      "id": "ao2PRinC_Tq0"
    },
    {
      "cell_type": "code",
      "source": [
        "karakter_doraemon[\"Nobita\"]=\"Cyborg\"\n",
        "print(karakter_doraemon)"
      ],
      "metadata": {
        "id": "RIjQyTK3_MS0"
      },
      "id": "RIjQyTK3_MS0",
      "execution_count": null,
      "outputs": []
    },
    {
      "cell_type": "markdown",
      "source": [
        "## Menambahkan Elemen Dictionary"
      ],
      "metadata": {
        "id": "Of6FCcTb_cA9"
      },
      "id": "Of6FCcTb_cA9"
    },
    {
      "cell_type": "code",
      "source": [
        "karakter_doraemon[\"Shizuka\"]=\"Human\"\n",
        "print(karakter_doraemon)"
      ],
      "metadata": {
        "id": "iC03pwim_jtw"
      },
      "id": "iC03pwim_jtw",
      "execution_count": null,
      "outputs": []
    },
    {
      "cell_type": "markdown",
      "source": [
        "## Method dalam Dictionary"
      ],
      "metadata": {
        "id": "SKoSZTOd_2Ov"
      },
      "id": "SKoSZTOd_2Ov"
    },
    {
      "cell_type": "markdown",
      "source": [
        "* dict.keys()\n",
        "* dict.values()\n",
        "* dict.items()\n",
        "* https://docs.python.org/3/library/stdtypes.html#typesmapping"
      ],
      "metadata": {
        "id": "M3HjI95p_8gd"
      },
      "id": "M3HjI95p_8gd"
    },
    {
      "cell_type": "code",
      "source": [
        "print(karakter_doraemon.keys())\n",
        "print(karakter_doraemon.values())\n",
        "print(karakter_doraemon.items())"
      ],
      "metadata": {
        "colab": {
          "base_uri": "https://localhost:8080/"
        },
        "id": "efhUauhcAP0-",
        "outputId": "4f0d6ba2-78a6-4a9c-bc3d-eab210dd1af2"
      },
      "id": "efhUauhcAP0-",
      "execution_count": null,
      "outputs": [
        {
          "output_type": "stream",
          "name": "stdout",
          "text": [
            "dict_keys(['Doraemon', 'Nobita', 'Giant', 'Suneo'])\n",
            "dict_values(['Robot', 'Human', 'Human', 'Human'])\n",
            "dict_items([('Doraemon', 'Robot'), ('Nobita', 'Human'), ('Giant', 'Human'), ('Suneo', 'Human')])\n"
          ]
        }
      ]
    },
    {
      "cell_type": "markdown",
      "source": [
        "## Menghapus Elemen Dictionary"
      ],
      "metadata": {
        "id": "XWv4XgPUAcO9"
      },
      "id": "XWv4XgPUAcO9"
    },
    {
      "cell_type": "code",
      "source": [
        "del(karakter_doraemon[\"Nobita\"])\n",
        "print(karakter_doraemon)"
      ],
      "metadata": {
        "id": "n34HTKp6Ai6X"
      },
      "id": "n34HTKp6Ai6X",
      "execution_count": null,
      "outputs": []
    },
    {
      "cell_type": "markdown",
      "source": [
        "## Dictionary in Dictionaries"
      ],
      "metadata": {
        "id": "QNnpNmwjAoll"
      },
      "id": "QNnpNmwjAoll"
    },
    {
      "cell_type": "code",
      "source": [
        "karakter_doraemon={\"Doraemon\":{\"Race\":\"Robot\",\"Food\":\"Dorayaki\"},\n",
        "                   \"Nobita\":{\"Race\":\"Human\",\"Food\":\"Nasi Kebuli\"},\n",
        "                   \"Giant\":{\"Race\":\"Human\",\"Food\":\"Pecel Ayam\"},\n",
        "                   \"Suneo\":{\"Race\":\"Human\",\"Food\":\"Gado-gado\"}}\n",
        "\n",
        "print(karakter_doraemon)"
      ],
      "metadata": {
        "id": "rz2PnMCyAtP0"
      },
      "id": "rz2PnMCyAtP0",
      "execution_count": null,
      "outputs": []
    },
    {
      "cell_type": "code",
      "source": [
        "#Akses Elemen\n",
        "print(karakter_doraemon[\"Doraemon\"]['Race'])\n",
        "print(karakter_doraemon[\"Doraemon\"]['Food'])"
      ],
      "metadata": {
        "id": "WEIlG0xyA430"
      },
      "id": "WEIlG0xyA430",
      "execution_count": null,
      "outputs": []
    },
    {
      "cell_type": "code",
      "source": [
        "#Ubah Elemen\n",
        "karakter_doraemon[\"Doraemon\"][\"Food\"]=\"Bakso\"\n",
        "print(karakter_doraemon[\"Doraemon\"][\"Food\"])"
      ],
      "metadata": {
        "id": "ZTv1Zby0A8Fw"
      },
      "id": "ZTv1Zby0A8Fw",
      "execution_count": null,
      "outputs": []
    },
    {
      "cell_type": "code",
      "source": [
        "#tambah elemen\n",
        "karakter_doraemon[\"Doraemon\"][\"minuman\"]=\"jus\""
      ],
      "metadata": {
        "id": "NyRQsqbYBQBO"
      },
      "id": "NyRQsqbYBQBO",
      "execution_count": null,
      "outputs": []
    },
    {
      "cell_type": "code",
      "source": [
        "print(karakter_doraemon)"
      ],
      "metadata": {
        "id": "HAFtP3rpENsX"
      },
      "id": "HAFtP3rpENsX",
      "execution_count": null,
      "outputs": []
    },
    {
      "cell_type": "code",
      "source": [
        "karakter_doraemon[\"Shizuka\"]={\"Race\":\"Human\",\"Food\":\"Kurma\"}"
      ],
      "metadata": {
        "id": "iRdbhGO7BT68"
      },
      "id": "iRdbhGO7BT68",
      "execution_count": null,
      "outputs": []
    },
    {
      "cell_type": "code",
      "source": [
        "karakter_doraemon[\"Shizuka\"][\"minuman\"]=\"jus\""
      ],
      "metadata": {
        "id": "FW6BmJT5BWxO"
      },
      "id": "FW6BmJT5BWxO",
      "execution_count": null,
      "outputs": []
    },
    {
      "cell_type": "code",
      "source": [
        "karakter_doraemon"
      ],
      "metadata": {
        "id": "4zCUFc1WBY73"
      },
      "id": "4zCUFc1WBY73",
      "execution_count": null,
      "outputs": []
    },
    {
      "cell_type": "code",
      "source": [
        "#Hapus elemen\n",
        "del(karakter_doraemon[\"Shizuka\"][\"minuman\"])\n",
        "karakter_doraemon"
      ],
      "metadata": {
        "id": "46nGH2SNB4Xh"
      },
      "id": "46nGH2SNB4Xh",
      "execution_count": null,
      "outputs": []
    },
    {
      "cell_type": "code",
      "source": [
        "del(karakter_doraemon[\"Shizuka\"])\n",
        "karakter_doraemon"
      ],
      "metadata": {
        "id": "N0bwwaN0B6dW"
      },
      "id": "N0bwwaN0B6dW",
      "execution_count": null,
      "outputs": []
    },
    {
      "cell_type": "markdown",
      "source": [
        "# **Tuples**"
      ],
      "metadata": {
        "id": "2baw3ohxCEY8"
      },
      "id": "2baw3ohxCEY8"
    },
    {
      "cell_type": "markdown",
      "source": [
        "Tuples adalah data structures yang mirip seperti List namun bersifat immutable, unchangeable, ordered sequence by index, dan dapat menyimpan tipe data apapun"
      ],
      "metadata": {
        "id": "nCiHbk0_lUbC"
      },
      "id": "nCiHbk0_lUbC"
    },
    {
      "cell_type": "markdown",
      "source": [
        "Doc: https://docs.python.org/3/c-api/tuple.html"
      ],
      "metadata": {
        "id": "qwGtQtJ6lWf9"
      },
      "id": "qwGtQtJ6lWf9"
    },
    {
      "cell_type": "code",
      "source": [
        "makanan=(\"kerang\",\"usus\",\"kangkung\",\"tempe\")\n",
        "kantong_doraemon=(\"senter pembesar\",1,3.14,True)"
      ],
      "metadata": {
        "id": "pPyE-BoXlSnX"
      },
      "id": "pPyE-BoXlSnX",
      "execution_count": null,
      "outputs": []
    },
    {
      "cell_type": "code",
      "source": [
        "print(makanan)"
      ],
      "metadata": {
        "colab": {
          "base_uri": "https://localhost:8080/"
        },
        "id": "kmMTo0NwEViL",
        "outputId": "cf4c5600-1893-4798-966f-40cff7d514e7"
      },
      "id": "kmMTo0NwEViL",
      "execution_count": null,
      "outputs": [
        {
          "output_type": "stream",
          "name": "stdout",
          "text": [
            "('kerang', 'usus', 'kangkung', 'tempe')\n"
          ]
        }
      ]
    },
    {
      "cell_type": "code",
      "source": [
        "# Operasi pada Tuples (+ dan *)\n",
        "makanan * 3"
      ],
      "metadata": {
        "colab": {
          "base_uri": "https://localhost:8080/"
        },
        "id": "V7CdTDQVlfdt",
        "outputId": "846df38f-850e-456f-fe7e-4ff5c6444742"
      },
      "id": "V7CdTDQVlfdt",
      "execution_count": null,
      "outputs": [
        {
          "output_type": "execute_result",
          "data": {
            "text/plain": [
              "('kerang',\n",
              " 'usus',\n",
              " 'kangkung',\n",
              " 'tempe',\n",
              " 'kerang',\n",
              " 'usus',\n",
              " 'kangkung',\n",
              " 'tempe',\n",
              " 'kerang',\n",
              " 'usus',\n",
              " 'kangkung',\n",
              " 'tempe')"
            ]
          },
          "metadata": {},
          "execution_count": 3
        }
      ]
    },
    {
      "cell_type": "code",
      "source": [
        "makanan + kantong_doraemon"
      ],
      "metadata": {
        "colab": {
          "base_uri": "https://localhost:8080/"
        },
        "id": "NaSdMY3kEpjU",
        "outputId": "8f20ad79-0beb-493f-8108-830672d4aa66"
      },
      "id": "NaSdMY3kEpjU",
      "execution_count": null,
      "outputs": [
        {
          "output_type": "execute_result",
          "data": {
            "text/plain": [
              "('kerang', 'usus', 'kangkung', 'tempe', 'senter pembesar', 1, 3.14, True)"
            ]
          },
          "metadata": {},
          "execution_count": 7
        }
      ]
    },
    {
      "cell_type": "code",
      "source": [
        "makanan"
      ],
      "metadata": {
        "colab": {
          "base_uri": "https://localhost:8080/"
        },
        "id": "IHBGzC45EkF_",
        "outputId": "5a72fff0-7b77-4e5d-fbce-e83cb413fe64"
      },
      "id": "IHBGzC45EkF_",
      "execution_count": null,
      "outputs": [
        {
          "output_type": "execute_result",
          "data": {
            "text/plain": [
              "('kerang', 'usus', 'kangkung', 'tempe')"
            ]
          },
          "metadata": {},
          "execution_count": 4
        }
      ]
    },
    {
      "cell_type": "markdown",
      "source": [
        "## Akses Elemen Tuples"
      ],
      "metadata": {
        "id": "C6hQ6vX0lnxd"
      },
      "id": "C6hQ6vX0lnxd"
    },
    {
      "cell_type": "code",
      "source": [
        "print(kantong_doraemon[0])\n",
        "print(kantong_doraemon[1])"
      ],
      "metadata": {
        "colab": {
          "base_uri": "https://localhost:8080/"
        },
        "id": "HOnqWHkhlmAH",
        "outputId": "2a7f40da-43ec-48f0-9730-9d2cac9c5359"
      },
      "id": "HOnqWHkhlmAH",
      "execution_count": null,
      "outputs": [
        {
          "output_type": "stream",
          "name": "stdout",
          "text": [
            "senter pembesar\n",
            "1\n"
          ]
        }
      ]
    },
    {
      "cell_type": "markdown",
      "source": [
        "## Slicing Tuples\n",
        "Tuples[include:exclude]"
      ],
      "metadata": {
        "id": "tG_r_Utjl8Wn"
      },
      "id": "tG_r_Utjl8Wn"
    },
    {
      "cell_type": "code",
      "source": [
        "print(kantong_doraemon[0:3])\n",
        "print(kantong_doraemon[:3])"
      ],
      "metadata": {
        "colab": {
          "base_uri": "https://localhost:8080/"
        },
        "id": "u9uq6DygmIcq",
        "outputId": "19882b5c-41b9-4c69-e21b-5c9a095e5988"
      },
      "id": "u9uq6DygmIcq",
      "execution_count": null,
      "outputs": [
        {
          "output_type": "stream",
          "name": "stdout",
          "text": [
            "('senter pembesar', 1, 3.14)\n",
            "('senter pembesar', 1, 3.14)\n"
          ]
        }
      ]
    },
    {
      "cell_type": "code",
      "source": [
        "print(kantong_doraemon[:])\n",
        "print(kantong_doraemon)"
      ],
      "metadata": {
        "colab": {
          "base_uri": "https://localhost:8080/"
        },
        "id": "TjCSD1kImNLH",
        "outputId": "1eb98ad0-97e2-4a4b-beb2-545d138586b9"
      },
      "id": "TjCSD1kImNLH",
      "execution_count": null,
      "outputs": [
        {
          "output_type": "stream",
          "name": "stdout",
          "text": [
            "('senter pembesar', 1, 3.14, True)\n",
            "('senter pembesar', 1, 3.14, True)\n"
          ]
        }
      ]
    },
    {
      "cell_type": "code",
      "source": [
        "print(kantong_doraemon[-2::1])"
      ],
      "metadata": {
        "colab": {
          "base_uri": "https://localhost:8080/"
        },
        "id": "BO4QDITlmN1K",
        "outputId": "a41a3469-388a-4239-caf2-72e64e982d40"
      },
      "id": "BO4QDITlmN1K",
      "execution_count": null,
      "outputs": [
        {
          "output_type": "stream",
          "name": "stdout",
          "text": [
            "(3.14, True)\n"
          ]
        }
      ]
    },
    {
      "cell_type": "markdown",
      "source": [
        "## Menghapus Tuples"
      ],
      "metadata": {
        "id": "U_jRuHF-mVA1"
      },
      "id": "U_jRuHF-mVA1"
    },
    {
      "cell_type": "code",
      "source": [
        "makanan=(\"kerang\",\"usus\",\"kangkung\",\"tempe\")"
      ],
      "metadata": {
        "id": "eIIJBnhXmP5q"
      },
      "id": "eIIJBnhXmP5q",
      "execution_count": null,
      "outputs": []
    },
    {
      "cell_type": "code",
      "source": [
        "del(makanan[0])"
      ],
      "metadata": {
        "colab": {
          "base_uri": "https://localhost:8080/",
          "height": 179
        },
        "id": "GkFTj7qsf0I8",
        "outputId": "60116f36-631b-4db8-a954-235f9b17b241"
      },
      "id": "GkFTj7qsf0I8",
      "execution_count": null,
      "outputs": [
        {
          "output_type": "error",
          "ename": "TypeError",
          "evalue": "ignored",
          "traceback": [
            "\u001b[0;31m---------------------------------------------------------------------------\u001b[0m",
            "\u001b[0;31mTypeError\u001b[0m                                 Traceback (most recent call last)",
            "\u001b[0;32m<ipython-input-16-3797af23fc93>\u001b[0m in \u001b[0;36m<cell line: 1>\u001b[0;34m()\u001b[0m\n\u001b[0;32m----> 1\u001b[0;31m \u001b[0;32mdel\u001b[0m\u001b[0;34m(\u001b[0m\u001b[0mmakanan\u001b[0m\u001b[0;34m[\u001b[0m\u001b[0;36m0\u001b[0m\u001b[0;34m]\u001b[0m\u001b[0;34m)\u001b[0m\u001b[0;34m\u001b[0m\u001b[0;34m\u001b[0m\u001b[0m\n\u001b[0m",
            "\u001b[0;31mTypeError\u001b[0m: 'tuple' object doesn't support item deletion"
          ]
        }
      ]
    },
    {
      "cell_type": "markdown",
      "source": [
        "## Tuple in Tuples"
      ],
      "metadata": {
        "id": "_VItWeZ5miut"
      },
      "id": "_VItWeZ5miut"
    },
    {
      "cell_type": "code",
      "source": [
        "Doraemon = (\n",
        "    (\"Doraemon\",\"Nobita\",\"Giant\",\"Suneo\"),\n",
        "    (\"Dorayaki\",\"Nasi Kebuli\",\"Pecel Ayam\",\"Gado-gado\"),\n",
        "    (60,50,80,45)\n",
        "    )"
      ],
      "metadata": {
        "id": "XktjCcj8mh6f"
      },
      "id": "XktjCcj8mh6f",
      "execution_count": null,
      "outputs": []
    },
    {
      "cell_type": "code",
      "source": [
        "# Akses elemen\n",
        "print(Doraemon[0])\n",
        "print(Doraemon[0][2])"
      ],
      "metadata": {
        "colab": {
          "base_uri": "https://localhost:8080/"
        },
        "id": "Tx2mn-KQmxEC",
        "outputId": "cb23ce59-1d9f-4054-bfa2-ad9f993e57b6"
      },
      "id": "Tx2mn-KQmxEC",
      "execution_count": null,
      "outputs": [
        {
          "output_type": "stream",
          "name": "stdout",
          "text": [
            "('Doraemon', 'Nobita', 'Giant', 'Suneo')\n",
            "Giant\n"
          ]
        }
      ]
    },
    {
      "cell_type": "code",
      "source": [
        "del(Doraemon[0])\n",
        "print(Doraemon)"
      ],
      "metadata": {
        "colab": {
          "base_uri": "https://localhost:8080/",
          "height": 198
        },
        "id": "wNscmIk5m6Gt",
        "outputId": "197cb64d-4906-4b00-fba9-2254417105a3"
      },
      "id": "wNscmIk5m6Gt",
      "execution_count": null,
      "outputs": [
        {
          "output_type": "error",
          "ename": "TypeError",
          "evalue": "ignored",
          "traceback": [
            "\u001b[0;31m---------------------------------------------------------------------------\u001b[0m",
            "\u001b[0;31mTypeError\u001b[0m                                 Traceback (most recent call last)",
            "\u001b[0;32m<ipython-input-23-9799d34f8edb>\u001b[0m in \u001b[0;36m<cell line: 1>\u001b[0;34m()\u001b[0m\n\u001b[0;32m----> 1\u001b[0;31m \u001b[0;32mdel\u001b[0m\u001b[0;34m(\u001b[0m\u001b[0mDoraemon\u001b[0m\u001b[0;34m[\u001b[0m\u001b[0;36m0\u001b[0m\u001b[0;34m]\u001b[0m\u001b[0;34m)\u001b[0m\u001b[0;34m\u001b[0m\u001b[0;34m\u001b[0m\u001b[0m\n\u001b[0m\u001b[1;32m      2\u001b[0m \u001b[0mprint\u001b[0m\u001b[0;34m(\u001b[0m\u001b[0mDoraemon\u001b[0m\u001b[0;34m)\u001b[0m\u001b[0;34m\u001b[0m\u001b[0;34m\u001b[0m\u001b[0m\n",
            "\u001b[0;31mTypeError\u001b[0m: 'tuple' object doesn't support item deletion"
          ]
        }
      ]
    },
    {
      "cell_type": "markdown",
      "source": [
        "# **SETS**"
      ],
      "metadata": {
        "id": "h6JyCo_0nAMG"
      },
      "id": "h6JyCo_0nAMG"
    },
    {
      "cell_type": "markdown",
      "source": [
        "Sets adalah data structure yang kalau kita analogikan bentuknya seperti diagram himpunan pada matematika.\n",
        "\n",
        "Sifat dari Set sendiri yaitu:\n",
        "* Kumpulan dari item yang tidak berurutan\n",
        "* Setiap item harus unik. Tidak boleh duplikat\n",
        "* Immutable or unchangeable\n",
        "Dapat digunakan untuk operasi himpunan seperti Union,Intersection, dll.\n",
        "\n",
        "Doc: https://docs.python.org/2/library/stdtypes.html#set"
      ],
      "metadata": {
        "id": "pUd40MT-nCul"
      },
      "id": "pUd40MT-nCul"
    },
    {
      "cell_type": "code",
      "source": [
        "makanan = set()\n",
        "makanan = {1,2,3,3,4,4,\"Lima\"}"
      ],
      "metadata": {
        "id": "fHkYfOjWm_uA"
      },
      "id": "fHkYfOjWm_uA",
      "execution_count": null,
      "outputs": []
    },
    {
      "cell_type": "code",
      "source": [
        "makanan = set({1,2,3,3,4,4,\"Lima\"})"
      ],
      "metadata": {
        "id": "HPNBcOs3JYn-"
      },
      "id": "HPNBcOs3JYn-",
      "execution_count": null,
      "outputs": []
    },
    {
      "cell_type": "code",
      "source": [
        "print(makanan)"
      ],
      "metadata": {
        "colab": {
          "base_uri": "https://localhost:8080/"
        },
        "id": "PkFbUUM7niKg",
        "outputId": "f12e3ce3-ac50-4d82-82f5-30923fe3db69"
      },
      "id": "PkFbUUM7niKg",
      "execution_count": null,
      "outputs": [
        {
          "output_type": "stream",
          "name": "stdout",
          "text": [
            "{1, 2, 3, 4, 'Lima'}\n"
          ]
        }
      ]
    },
    {
      "cell_type": "code",
      "source": [
        "type(makanan)"
      ],
      "metadata": {
        "colab": {
          "base_uri": "https://localhost:8080/"
        },
        "id": "PI4VEyQinlko",
        "outputId": "3607b342-eed9-4340-cc31-0d60b80c885a"
      },
      "id": "PI4VEyQinlko",
      "execution_count": null,
      "outputs": [
        {
          "output_type": "execute_result",
          "data": {
            "text/plain": [
              "set"
            ]
          },
          "metadata": {},
          "execution_count": 23
        }
      ]
    },
    {
      "cell_type": "markdown",
      "source": [
        "method dalam Set:\n",
        "* add() untuk menambah 1 elemen\n",
        "* update() untuk menambah multiple elemen\n",
        "* remove() untuk menghapus elemen dan mengembalikan nilai kembalian error jika tidak ada"
      ],
      "metadata": {
        "id": "eOURV_konuGW"
      },
      "id": "eOURV_konuGW"
    },
    {
      "cell_type": "code",
      "source": [
        "makanan.add(6)"
      ],
      "metadata": {
        "id": "NNL1Kqttnjo9"
      },
      "id": "NNL1Kqttnjo9",
      "execution_count": null,
      "outputs": []
    },
    {
      "cell_type": "code",
      "source": [
        "makanan"
      ],
      "metadata": {
        "colab": {
          "base_uri": "https://localhost:8080/"
        },
        "id": "jlhvTxTun4k2",
        "outputId": "3ea7d5d6-463b-447c-c978-1ee1e52e35af"
      },
      "id": "jlhvTxTun4k2",
      "execution_count": null,
      "outputs": [
        {
          "output_type": "execute_result",
          "data": {
            "text/plain": [
              "{1, 2, 3, 4, 6, 'Lima'}"
            ]
          },
          "metadata": {},
          "execution_count": 25
        }
      ]
    },
    {
      "cell_type": "code",
      "source": [
        "makanan.update([\"tujuh\",8])"
      ],
      "metadata": {
        "id": "MlsJ0HREn8tJ"
      },
      "id": "MlsJ0HREn8tJ",
      "execution_count": null,
      "outputs": []
    },
    {
      "cell_type": "code",
      "source": [
        "makanan"
      ],
      "metadata": {
        "colab": {
          "base_uri": "https://localhost:8080/"
        },
        "id": "vTdzJSq1oSJk",
        "outputId": "0e41f9a0-a4ca-4e30-e397-1c53c06b33be"
      },
      "id": "vTdzJSq1oSJk",
      "execution_count": null,
      "outputs": [
        {
          "output_type": "execute_result",
          "data": {
            "text/plain": [
              "{1, 2, 3, 4, 6, 8, 'Lima', 'tujuh'}"
            ]
          },
          "metadata": {},
          "execution_count": 27
        }
      ]
    },
    {
      "cell_type": "code",
      "source": [
        "makanan.remove(\"tujuh\")"
      ],
      "metadata": {
        "id": "mTmrhWNcoTO-"
      },
      "id": "mTmrhWNcoTO-",
      "execution_count": null,
      "outputs": []
    },
    {
      "cell_type": "code",
      "source": [
        "makanan"
      ],
      "metadata": {
        "colab": {
          "base_uri": "https://localhost:8080/"
        },
        "id": "W2PEeYVxJ_k0",
        "outputId": "3ff4e5bb-64d7-46f3-8ad2-f8725938d251"
      },
      "id": "W2PEeYVxJ_k0",
      "execution_count": null,
      "outputs": [
        {
          "output_type": "execute_result",
          "data": {
            "text/plain": [
              "{1, 2, 3, 4, 6, 8, 'Lima'}"
            ]
          },
          "metadata": {},
          "execution_count": 29
        }
      ]
    },
    {
      "cell_type": "markdown",
      "source": [
        "### Operasi Sets"
      ],
      "metadata": {
        "id": "cmVRwnuDo_kf"
      },
      "id": "cmVRwnuDo_kf"
    },
    {
      "cell_type": "markdown",
      "source": [
        "![sets.png](data:image/png;base64,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)"
      ],
      "metadata": {
        "id": "SnFYLee2oo41"
      },
      "id": "SnFYLee2oo41"
    },
    {
      "cell_type": "code",
      "source": [
        "a={1,2,3,4}\n",
        "b={2,3,5,6}\n",
        "\n",
        "print(a.union(b))\n",
        "print(a|b)"
      ],
      "metadata": {
        "colab": {
          "base_uri": "https://localhost:8080/"
        },
        "id": "eMFzAqyuoZsG",
        "outputId": "d2d113d8-c06d-4b93-f83b-0ed495986bdc"
      },
      "id": "eMFzAqyuoZsG",
      "execution_count": null,
      "outputs": [
        {
          "output_type": "stream",
          "name": "stdout",
          "text": [
            "{1, 2, 3, 4, 5, 6}\n",
            "{1, 2, 3, 4, 5, 6}\n"
          ]
        }
      ]
    },
    {
      "cell_type": "code",
      "source": [
        "print(a.intersection(b))\n",
        "print(a&b)"
      ],
      "metadata": {
        "colab": {
          "base_uri": "https://localhost:8080/"
        },
        "id": "FjSxgSW6pPBl",
        "outputId": "35239cc0-4f10-484a-ee8d-3d53eede75ea"
      },
      "id": "FjSxgSW6pPBl",
      "execution_count": null,
      "outputs": [
        {
          "output_type": "stream",
          "name": "stdout",
          "text": [
            "{2, 3}\n",
            "{2, 3}\n"
          ]
        }
      ]
    },
    {
      "cell_type": "code",
      "source": [
        "print(a.difference(b))\n",
        "print(a-b)\n",
        "\n",
        "print(b.difference(a))\n",
        "print(b-a)"
      ],
      "metadata": {
        "colab": {
          "base_uri": "https://localhost:8080/"
        },
        "id": "yI3Jw7ZBpQj9",
        "outputId": "1862992c-29c9-4ca1-bbef-3530dc312df3"
      },
      "id": "yI3Jw7ZBpQj9",
      "execution_count": null,
      "outputs": [
        {
          "output_type": "stream",
          "name": "stdout",
          "text": [
            "{1, 4}\n",
            "{1, 4}\n",
            "{5, 6}\n",
            "{5, 6}\n"
          ]
        }
      ]
    },
    {
      "cell_type": "code",
      "source": [
        "print(a.symmetric_difference(b))\n",
        "print(a^b)"
      ],
      "metadata": {
        "colab": {
          "base_uri": "https://localhost:8080/"
        },
        "id": "UBzNpkBJpTyV",
        "outputId": "9bf2a6c6-9dc4-4f15-8ae4-8e892076a39b"
      },
      "id": "UBzNpkBJpTyV",
      "execution_count": null,
      "outputs": [
        {
          "output_type": "stream",
          "name": "stdout",
          "text": [
            "{1, 4, 5, 6}\n",
            "{1, 4, 5, 6}\n"
          ]
        }
      ]
    },
    {
      "cell_type": "markdown",
      "source": [
        "# **CONTROL FLOW**\n",
        "* Merupakan kontrol aliran dari suatu program\n",
        "* Menggunakan IF Statements\n",
        "\n",
        "\n"
      ],
      "metadata": {
        "id": "bCyoLfbEpoU3"
      },
      "id": "bCyoLfbEpoU3"
    },
    {
      "cell_type": "markdown",
      "source": [
        "## Comparison Operators"
      ],
      "metadata": {
        "id": "kk5EM2k5p31Q"
      },
      "id": "kk5EM2k5p31Q"
    },
    {
      "cell_type": "code",
      "source": [
        "print(2 < 1)\n",
        "print(2 > 1)\n",
        "print(2 >= 2)\n",
        "print(\"Python\" == \"python\")\n",
        "print(\"Python\" != \"python\")\n",
        "print(True==1)\n",
        "print(False==0)"
      ],
      "metadata": {
        "colab": {
          "base_uri": "https://localhost:8080/"
        },
        "id": "y4Gp2_EQpWfm",
        "outputId": "86fb9969-6ae8-43fe-e0f7-a09fb956e1de"
      },
      "id": "y4Gp2_EQpWfm",
      "execution_count": null,
      "outputs": [
        {
          "output_type": "stream",
          "name": "stdout",
          "text": [
            "False\n",
            "True\n",
            "True\n",
            "False\n",
            "True\n",
            "True\n",
            "True\n"
          ]
        }
      ]
    },
    {
      "cell_type": "markdown",
      "source": [
        "## IF Statement"
      ],
      "metadata": {
        "id": "wsD1L08xqJs6"
      },
      "id": "wsD1L08xqJs6"
    },
    {
      "cell_type": "code",
      "source": [
        "if 2 > 1:\n",
        "  print(\"benar\")"
      ],
      "metadata": {
        "colab": {
          "base_uri": "https://localhost:8080/"
        },
        "id": "lDaXri0mqH7E",
        "outputId": "53211eb8-0db6-452c-c3f7-c930b8162220"
      },
      "id": "lDaXri0mqH7E",
      "execution_count": null,
      "outputs": [
        {
          "output_type": "stream",
          "name": "stdout",
          "text": [
            "benar\n"
          ]
        }
      ]
    },
    {
      "cell_type": "code",
      "source": [
        "karakter=\"Nobit\"\n",
        "\n",
        "if karakter.upper() == \"NOBITA\":\n",
        "  print(\"Karakter Utama\")\n",
        "else:\n",
        "  print(\"Karakter Sampingan\")"
      ],
      "metadata": {
        "colab": {
          "base_uri": "https://localhost:8080/"
        },
        "id": "QQXjCEuCqS3G",
        "outputId": "e7751b8b-ed8a-42d9-80f2-c758a4e96561"
      },
      "id": "QQXjCEuCqS3G",
      "execution_count": null,
      "outputs": [
        {
          "output_type": "stream",
          "name": "stdout",
          "text": [
            "Karakter Sampingan\n"
          ]
        }
      ]
    },
    {
      "cell_type": "code",
      "source": [
        "bmi=39\n",
        "if bmi <=60 and bmi >=50:\n",
        "  print(\"Ideal\")\n",
        "elif bmi <=70 and bmi >=61:\n",
        "  print(\"Gemuk\")\n",
        "else:\n",
        "  print(\"Obesitas\")"
      ],
      "metadata": {
        "colab": {
          "base_uri": "https://localhost:8080/"
        },
        "id": "cUGyKchSqs5W",
        "outputId": "4cf0787a-4737-43f6-8092-8e8fdbd8cb1e"
      },
      "id": "cUGyKchSqs5W",
      "execution_count": null,
      "outputs": [
        {
          "output_type": "stream",
          "name": "stdout",
          "text": [
            "Obesitas\n"
          ]
        }
      ]
    },
    {
      "cell_type": "code",
      "source": [
        "if bmi >=70:\n",
        "  print(\"Obesitas\")\n",
        "elif bmi >=60:\n",
        "  print(\"Gemuk\")\n",
        "elif bmi >=50:\n",
        "  print(\"Ideal\")\n",
        "else:\n",
        "  print(\"error\")"
      ],
      "metadata": {
        "colab": {
          "base_uri": "https://localhost:8080/"
        },
        "id": "wO_nyJIbqviY",
        "outputId": "0f30b375-01a3-4b5d-fb0a-00b8093caafb"
      },
      "id": "wO_nyJIbqviY",
      "execution_count": null,
      "outputs": [
        {
          "output_type": "stream",
          "name": "stdout",
          "text": [
            "error\n"
          ]
        }
      ]
    },
    {
      "cell_type": "code",
      "source": [
        "karakter={\"nobita\",\"doraemon\"}\n",
        "\n",
        "if \"nobita\" in karakter:\n",
        "  print(\"ada\")\n",
        "else:\n",
        "  print(\"tidak ada\")"
      ],
      "metadata": {
        "colab": {
          "base_uri": "https://localhost:8080/"
        },
        "id": "zaevJbadqx_U",
        "outputId": "cba3f4dd-3406-4125-e868-9565511d2700"
      },
      "id": "zaevJbadqx_U",
      "execution_count": null,
      "outputs": [
        {
          "output_type": "stream",
          "name": "stdout",
          "text": [
            "ada\n"
          ]
        }
      ]
    },
    {
      "cell_type": "markdown",
      "source": [
        "## Flow Chart Nested IF Statement"
      ],
      "metadata": {
        "id": "heopVn0TrInq"
      },
      "id": "heopVn0TrInq"
    },
    {
      "cell_type": "markdown",
      "source": [
        "![python_nested_if_else_statements_flow_chart.png](data:image/png;base64,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)"
      ],
      "metadata": {
        "id": "KZ8P6l2SrFbz"
      },
      "id": "KZ8P6l2SrFbz"
    },
    {
      "cell_type": "code",
      "source": [
        "karakter=[\"nobita\",\"doraemon\"]\n",
        "\n",
        "if \"nobita\" in karakter and \"doraemon\" in karakter:\n",
        "   print(\"ada\")\n",
        "\n",
        "if \"nobita\" in karakter:\n",
        "   if \"doraemon\" in karakter:\n",
        "     print(\"ada\")\n",
        "\n",
        "if \"nobita\" in karakter or \"shizuka\" in karakter:\n",
        "  print(\"ada\")"
      ],
      "metadata": {
        "colab": {
          "base_uri": "https://localhost:8080/"
        },
        "id": "81Z_6tY_qyms",
        "outputId": "ae8f9172-c2ac-4cbd-b468-ab768af06336"
      },
      "id": "81Z_6tY_qyms",
      "execution_count": null,
      "outputs": [
        {
          "output_type": "stream",
          "name": "stdout",
          "text": [
            "ada\n",
            "ada\n",
            "ada\n"
          ]
        }
      ]
    },
    {
      "cell_type": "code",
      "source": [
        "dewa_kipas=\"bingung\"\n",
        "cara_kalah=\"jatoh\" #Jika status kalah\n",
        "\n",
        "if dewa_kipas == \"kalah\":\n",
        "  if cara_kalah==\"checkmate\":\n",
        "    print(\"ga dapet 100 juta\")\n",
        "    print(\"Irene dapet 200 juta\")\n",
        "  elif cara_kalah==\"surrender\":\n",
        "    print(\"dapet 100 juta\")\n",
        "    print(\"Irene dapet 200 juta\")\n",
        "  else:\n",
        "    print(\"deddy cahyadi untung banyak\")\n",
        "elif dewa_kipas==\"menang\":\n",
        "  print(\"dewa kipas dapet 200 juta\")\n",
        "  print(\"deddy cahyadi tetap untung banyak\")\n",
        "else:\n",
        "  print(\"salah input\")"
      ],
      "metadata": {
        "colab": {
          "base_uri": "https://localhost:8080/"
        },
        "id": "vU13ui_osNrh",
        "outputId": "129a694d-b4bb-4c11-b1b7-0fc540760137"
      },
      "id": "vU13ui_osNrh",
      "execution_count": null,
      "outputs": [
        {
          "output_type": "stream",
          "name": "stdout",
          "text": [
            "salah input\n"
          ]
        }
      ]
    },
    {
      "cell_type": "code",
      "source": [
        "bmi=60\n",
        "if bmi <=60 and bmi >=50:\n",
        "  print(\"Ideal\")\n",
        "if bmi <=70 and bmi >=61:\n",
        "  print(\"Gemuk\")\n",
        "else:\n",
        "  print(\"Obesitas\")"
      ],
      "metadata": {
        "id": "ln5dHIZ6sPjg",
        "colab": {
          "base_uri": "https://localhost:8080/"
        },
        "outputId": "c4842a77-252f-4ffc-ddbc-187ffa97ba04"
      },
      "id": "ln5dHIZ6sPjg",
      "execution_count": null,
      "outputs": [
        {
          "output_type": "stream",
          "name": "stdout",
          "text": [
            "Ideal\n",
            "Obesitas\n"
          ]
        }
      ]
    },
    {
      "cell_type": "code",
      "source": [],
      "metadata": {
        "id": "B0BXATgGQ-Ku"
      },
      "id": "B0BXATgGQ-Ku",
      "execution_count": null,
      "outputs": []
    }
  ],
  "metadata": {
    "kernelspec": {
      "display_name": "Python 3 (ipykernel)",
      "language": "python",
      "name": "python3"
    },
    "language_info": {
      "codemirror_mode": {
        "name": "ipython",
        "version": 3
      },
      "file_extension": ".py",
      "mimetype": "text/x-python",
      "name": "python",
      "nbconvert_exporter": "python",
      "pygments_lexer": "ipython3",
      "version": "3.9.12"
    },
    "colab": {
      "provenance": [],
      "collapsed_sections": [
        "Mue49qBt-b5c"
      ]
    }
  },
  "nbformat": 4,
  "nbformat_minor": 5
}